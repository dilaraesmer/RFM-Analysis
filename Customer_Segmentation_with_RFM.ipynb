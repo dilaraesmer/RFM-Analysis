{
  "nbformat": 4,
  "nbformat_minor": 0,
  "metadata": {
    "colab": {
      "provenance": []
    },
    "kernelspec": {
      "name": "python3",
      "display_name": "Python 3"
    },
    "language_info": {
      "name": "python"
    }
  },
  "cells": [
    {
      "cell_type": "code",
      "execution_count": null,
      "metadata": {
        "id": "i0l6ebvbMY2H"
      },
      "outputs": [],
      "source": [
        "# Customer Segmentation with RFM"
      ]
    },
    {
      "cell_type": "markdown",
      "source": [
        "The data set named online retail 2 contains the sales of a retail store in England between 1.12.2009 and 09.12.2011."
      ],
      "metadata": {
        "id": "9cf6d-x3QIEN"
      }
    },
    {
      "cell_type": "code",
      "source": [],
      "metadata": {
        "id": "niEYG6kFQXDJ"
      },
      "execution_count": null,
      "outputs": []
    }
  ]
}