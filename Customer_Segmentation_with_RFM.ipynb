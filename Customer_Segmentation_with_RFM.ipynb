{
  "nbformat": 4,
  "nbformat_minor": 0,
  "metadata": {
    "colab": {
      "provenance": [],
      "authorship_tag": "ABX9TyOqN/1pcXAHkEmo8+U4n7Gx",
      "include_colab_link": true
    },
    "kernelspec": {
      "name": "python3",
      "display_name": "Python 3"
    },
    "language_info": {
      "name": "python"
    }
  },
  "cells": [
    {
      "cell_type": "markdown",
      "metadata": {
        "id": "view-in-github",
        "colab_type": "text"
      },
      "source": [
        "<a href=\"https://colab.research.google.com/github/dilaraesmer/RFM-Analysis/blob/main/Customer_Segmentation_with_RFM.ipynb\" target=\"_parent\"><img src=\"https://colab.research.google.com/assets/colab-badge.svg\" alt=\"Open In Colab\"/></a>"
      ]
    },
    {
      "cell_type": "code",
      "execution_count": null,
      "metadata": {
        "id": "i0l6ebvbMY2H"
      },
      "outputs": [],
      "source": [
        "# Customer Segmentation with RFM"
      ]
    },
    {
      "cell_type": "markdown",
      "source": [
        "The data set named online retail 2 contains the sales of a retail store in England between 1.12.2009 and 09.12.2011."
      ],
      "metadata": {
        "id": "9cf6d-x3QIEN"
      }
    },
    {
      "cell_type": "code",
      "source": [
        "# Variables\n",
        "\n",
        "# InvoiceNo: invoice number, unique number for each transaction. If it starts with C, it is a canceled transaction.\n",
        "# StockCode: product code, unique number for each product"
      ],
      "metadata": {
        "id": "niEYG6kFQXDJ"
      },
      "execution_count": null,
      "outputs": []
    }
  ]
}