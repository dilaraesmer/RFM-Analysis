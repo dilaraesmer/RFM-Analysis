{
  "nbformat": 4,
  "nbformat_minor": 0,
  "metadata": {
    "colab": {
      "provenance": [],
      "authorship_tag": "ABX9TyOtPy7fSsCyD8PHoKC++3Lo",
      "include_colab_link": true
    },
    "kernelspec": {
      "name": "python3",
      "display_name": "Python 3"
    },
    "language_info": {
      "name": "python"
    }
  },
  "cells": [
    {
      "cell_type": "markdown",
      "metadata": {
        "id": "view-in-github",
        "colab_type": "text"
      },
      "source": [
        "<a href=\"https://colab.research.google.com/github/dilaraesmer/RFM-Analysis/blob/main/Customer_Segmentation_with_RFM.ipynb\" target=\"_parent\"><img src=\"https://colab.research.google.com/assets/colab-badge.svg\" alt=\"Open In Colab\"/></a>"
      ]
    },
    {
      "cell_type": "code",
      "execution_count": 1,
      "metadata": {
        "id": "i0l6ebvbMY2H"
      },
      "outputs": [],
      "source": [
        "# Customer Segmentation with RFM"
      ]
    },
    {
      "cell_type": "markdown",
      "source": [
        "The data set named online retail 2 contains the sales of a retail store in England between 1.12.2009 and 09.12.2011."
      ],
      "metadata": {
        "id": "9cf6d-x3QIEN"
      }
    },
    {
      "cell_type": "code",
      "source": [
        "# Variables\n",
        "\n",
        "# InvoiceNo: invoice number, unique number for each transaction. If it starts with C, it is a canceled transaction.\n",
        "# StockCode: product code, unique number for each product\n",
        "# Description: product name\n",
        "# Quantity: number of products. It indicates how many of the products on the invoices were sold.\n",
        "# InvoiceDate: invoice date and time\n",
        "# UnitPrice: price of the product (pound sterling)\n",
        "# CustomerID: unique customer number\n",
        "# Country: Country name, the country where the customer lives\n"
      ],
      "metadata": {
        "id": "niEYG6kFQXDJ"
      },
      "execution_count": 3,
      "outputs": []
    },
    {
      "cell_type": "code",
      "source": [],
      "metadata": {
        "id": "1e68BSHZn1YA"
      },
      "execution_count": null,
      "outputs": []
    }
  ]
}